{
 "cells": [
  {
   "cell_type": "markdown",
   "metadata": {},
   "source": [
    "Name: Sam Pierre-Louis, Joseph Champeau\n",
    "\n",
    "CSI4107 Assignment 1 - Information Retreival System"
   ]
  },
  {
   "cell_type": "code",
   "execution_count": 3,
   "metadata": {},
   "outputs": [],
   "source": [
    "#Import all necessary libraries\n",
    "import re\n",
    "from nltk.corpus import stopwords\n",
    "from nltk.stem import PorterStemmer\n",
    "\n",
    "from collections import defaultdict\n",
    "import json\n",
    "\n",
    "import math\n",
    "from sklearn.feature_extraction.text import TfidfVectorizer"
   ]
  },
  {
   "cell_type": "markdown",
   "metadata": {},
   "source": [
    "Step 1: Preprocessing\n",
    "The preprocessing step involves tokenization, stopword removal, and optionally stemming.\n",
    "\n",
    "Tokenization: Split the text into individual words.\n",
    "\n",
    "Stopword Removal: Remove common words that do not contribute much to the meaning of the text.\n",
    "\n",
    "Stemming: Reduce words to their root form."
   ]
  },
  {
   "cell_type": "code",
   "execution_count": 4,
   "metadata": {},
   "outputs": [],
   "source": [
    "# Load stopwords\n",
    "with open('StopWords.txt', 'r') as f:\n",
    "    stop_words = set(f.read().splitlines())\n",
    "\n",
    "# Initialize stemmer\n",
    "stemmer = PorterStemmer()\n",
    "\n",
    "def preprocess(text):\n",
    "    # Tokenization and lowercasing\n",
    "    tokens = re.findall(r'\\b\\w+\\b', text.lower())\n",
    "    \n",
    "    # Stopword removal\n",
    "    tokens = [token for token in tokens if token not in stop_words]\n",
    "    \n",
    "    # Optional stemming\n",
    "    tokens = [stemmer.stem(token) for token in tokens]\n",
    "    \n",
    "    return tokens"
   ]
  },
  {
   "cell_type": "markdown",
   "metadata": {},
   "source": [
    "Step 2: Indexing\n",
    "Build an inverted index where each term points to a list of documents that contain it."
   ]
  },
  {
   "cell_type": "code",
   "execution_count": null,
   "metadata": {},
   "outputs": [
    {
     "name": "stderr",
     "output_type": "stream",
     "text": [
      "<>:5: SyntaxWarning: invalid escape sequence '\\d'\n",
      "<>:5: SyntaxWarning: invalid escape sequence '\\d'\n",
      "C:\\Users\\jccha\\AppData\\Local\\Temp\\ipykernel_10948\\3517948644.py:5: SyntaxWarning: invalid escape sequence '\\d'\n",
      "  with open('C:\\dev\\CSI4107\\Assignment 1\\scifact\\corpus.jsonl', 'r') as f:\n"
     ]
    }
   ],
   "source": [
    "# Initialize inverted index\n",
    "inverted_index = defaultdict(list)\n",
    "\n",
    "# Read corpus and build index\n",
    "with open('C:\\dev\\CSI4107\\Assignment 1\\scifact\\corpus.jsonl', 'r') as f:\n",
    "    for line in f:\n",
    "        doc = json.loads(line)\n",
    "        doc_id = doc['_id']\n",
    "        text = doc['title'] + ' ' + doc['text']\n",
    "        tokens = preprocess(text)\n",
    "        \n",
    "        # Update inverted index\n",
    "        for token in set(tokens):  # Use set to avoid duplicate entries\n",
    "            inverted_index[token].append(doc_id)\n",
    "\n",
    "# Save inverted index to a file\n",
    "with open('inverted_index.json', 'w') as f:\n",
    "    json.dump(inverted_index, f)"
   ]
  },
  {
   "cell_type": "markdown",
   "metadata": {},
   "source": [
    "Step 3: Retrieval and Ranking\n",
    "For each query, compute the cosine similarity between the query and each document using TF-IDF weighting."
   ]
  },
  {
   "cell_type": "code",
   "execution_count": 12,
   "metadata": {},
   "outputs": [
    {
     "name": "stderr",
     "output_type": "stream",
     "text": [
      "<>:19: SyntaxWarning: invalid escape sequence '\\d'\n",
      "<>:36: SyntaxWarning: invalid escape sequence '\\d'\n",
      "<>:19: SyntaxWarning: invalid escape sequence '\\d'\n",
      "<>:36: SyntaxWarning: invalid escape sequence '\\d'\n",
      "C:\\Users\\jccha\\AppData\\Local\\Temp\\ipykernel_10948\\917065659.py:19: SyntaxWarning: invalid escape sequence '\\d'\n",
      "  with open('C:\\dev\\CSI4107\\Assignment 1\\scifact\\corpus.jsonl', 'r') as f:\n",
      "C:\\Users\\jccha\\AppData\\Local\\Temp\\ipykernel_10948\\917065659.py:36: SyntaxWarning: invalid escape sequence '\\d'\n",
      "  with open('C:\\dev\\CSI4107\\Assignment 1\\scifact\\queries.jsonl', 'r') as f:\n",
      "C:\\Users\\jccha\\AppData\\Local\\Temp\\ipykernel_10948\\917065659.py:19: SyntaxWarning: invalid escape sequence '\\d'\n",
      "  with open('C:\\dev\\CSI4107\\Assignment 1\\scifact\\corpus.jsonl', 'r') as f:\n",
      "C:\\Users\\jccha\\AppData\\Local\\Temp\\ipykernel_10948\\917065659.py:36: SyntaxWarning: invalid escape sequence '\\d'\n",
      "  with open('C:\\dev\\CSI4107\\Assignment 1\\scifact\\queries.jsonl', 'r') as f:\n"
     ]
    },
    {
     "ename": "KeyboardInterrupt",
     "evalue": "",
     "output_type": "error",
     "traceback": [
      "\u001b[1;31m---------------------------------------------------------------------------\u001b[0m",
      "\u001b[1;31mKeyboardInterrupt\u001b[0m                         Traceback (most recent call last)",
      "Cell \u001b[1;32mIn[12], line 50\u001b[0m\n\u001b[0;32m     48\u001b[0m \u001b[38;5;28;01mfor\u001b[39;00m doc_id \u001b[38;5;129;01min\u001b[39;00m inverted_index[term]:\n\u001b[0;32m     49\u001b[0m     \u001b[38;5;28;01mif\u001b[39;00m doc_id \u001b[38;5;129;01mnot\u001b[39;00m \u001b[38;5;129;01min\u001b[39;00m doc_scores:\n\u001b[1;32m---> 50\u001b[0m         doc_text \u001b[38;5;241m=\u001b[39m \u001b[43mget_document_text\u001b[49m\u001b[43m(\u001b[49m\u001b[43mdoc_id\u001b[49m\u001b[43m)\u001b[49m  \u001b[38;5;66;03m# Function to get document text\u001b[39;00m\n\u001b[0;32m     51\u001b[0m         doc_tokens \u001b[38;5;241m=\u001b[39m preprocess(doc_text)\n\u001b[0;32m     52\u001b[0m         doc_tfidf \u001b[38;5;241m=\u001b[39m compute_tfidf(doc_tokens, doc_freq, total_docs)\n",
      "Cell \u001b[1;32mIn[12], line 20\u001b[0m, in \u001b[0;36mget_document_text\u001b[1;34m(doc_id)\u001b[0m\n\u001b[0;32m     18\u001b[0m \u001b[38;5;28;01mdef\u001b[39;00m\u001b[38;5;250m \u001b[39m\u001b[38;5;21mget_document_text\u001b[39m(doc_id):\n\u001b[0;32m     19\u001b[0m     \u001b[38;5;28;01mwith\u001b[39;00m \u001b[38;5;28mopen\u001b[39m(\u001b[38;5;124m'\u001b[39m\u001b[38;5;124mC:\u001b[39m\u001b[38;5;124m\\\u001b[39m\u001b[38;5;124mdev\u001b[39m\u001b[38;5;124m\\\u001b[39m\u001b[38;5;124mCSI4107\u001b[39m\u001b[38;5;124m\\\u001b[39m\u001b[38;5;124mAssignment 1\u001b[39m\u001b[38;5;124m\\\u001b[39m\u001b[38;5;124mscifact\u001b[39m\u001b[38;5;124m\\\u001b[39m\u001b[38;5;124mcorpus.jsonl\u001b[39m\u001b[38;5;124m'\u001b[39m, \u001b[38;5;124m'\u001b[39m\u001b[38;5;124mr\u001b[39m\u001b[38;5;124m'\u001b[39m) \u001b[38;5;28;01mas\u001b[39;00m f:\n\u001b[1;32m---> 20\u001b[0m \u001b[43m        \u001b[49m\u001b[38;5;28;43;01mfor\u001b[39;49;00m\u001b[43m \u001b[49m\u001b[43mline\u001b[49m\u001b[43m \u001b[49m\u001b[38;5;129;43;01min\u001b[39;49;00m\u001b[43m \u001b[49m\u001b[43mf\u001b[49m\u001b[43m:\u001b[49m\n\u001b[0;32m     21\u001b[0m \u001b[43m            \u001b[49m\u001b[43mdoc\u001b[49m\u001b[43m \u001b[49m\u001b[38;5;241;43m=\u001b[39;49m\u001b[43m \u001b[49m\u001b[43mjson\u001b[49m\u001b[38;5;241;43m.\u001b[39;49m\u001b[43mloads\u001b[49m\u001b[43m(\u001b[49m\u001b[43mline\u001b[49m\u001b[43m)\u001b[49m\n\u001b[0;32m     22\u001b[0m \u001b[43m            \u001b[49m\u001b[38;5;28;43;01mif\u001b[39;49;00m\u001b[43m \u001b[49m\u001b[43mdoc\u001b[49m\u001b[43m[\u001b[49m\u001b[38;5;124;43m'\u001b[39;49m\u001b[38;5;124;43m_id\u001b[39;49m\u001b[38;5;124;43m'\u001b[39;49m\u001b[43m]\u001b[49m\u001b[43m \u001b[49m\u001b[38;5;241;43m==\u001b[39;49m\u001b[43m \u001b[49m\u001b[43mdoc_id\u001b[49m\u001b[43m:\u001b[49m\n",
      "File \u001b[1;32mc:\\Python312\\Lib\\encodings\\cp1252.py:22\u001b[0m, in \u001b[0;36mIncrementalDecoder.decode\u001b[1;34m(self, input, final)\u001b[0m\n\u001b[0;32m     21\u001b[0m \u001b[38;5;28;01mclass\u001b[39;00m\u001b[38;5;250m \u001b[39m\u001b[38;5;21;01mIncrementalDecoder\u001b[39;00m(codecs\u001b[38;5;241m.\u001b[39mIncrementalDecoder):\n\u001b[1;32m---> 22\u001b[0m     \u001b[38;5;28;01mdef\u001b[39;00m\u001b[38;5;250m \u001b[39m\u001b[38;5;21mdecode\u001b[39m(\u001b[38;5;28mself\u001b[39m, \u001b[38;5;28minput\u001b[39m, final\u001b[38;5;241m=\u001b[39m\u001b[38;5;28;01mFalse\u001b[39;00m):\n\u001b[0;32m     23\u001b[0m         \u001b[38;5;28;01mreturn\u001b[39;00m codecs\u001b[38;5;241m.\u001b[39mcharmap_decode(\u001b[38;5;28minput\u001b[39m,\u001b[38;5;28mself\u001b[39m\u001b[38;5;241m.\u001b[39merrors,decoding_table)[\u001b[38;5;241m0\u001b[39m]\n",
      "\u001b[1;31mKeyboardInterrupt\u001b[0m: "
     ]
    }
   ],
   "source": [
    "# Compute document frequencies\n",
    "doc_freq = {term: len(docs) for term, docs in inverted_index.items()}\n",
    "total_docs = len(inverted_index)\n",
    "\n",
    "# Function to compute TF-IDF\n",
    "def compute_tfidf(tokens, doc_freq, total_docs):\n",
    "    tfidf = {}\n",
    "    for token in set(tokens):\n",
    "        tf = tokens.count(token)\n",
    "        idf = math.log(total_docs / doc_freq.get(token, 1))\n",
    "        tfidf[token] = tf * idf\n",
    "    return tfidf\n",
    "\n",
    "#helper function to retrieve the text of a document given its ID\n",
    "def get_document_text(doc_id):\n",
    "    with open('C:\\dev\\CSI4107\\Assignment 1\\scifact\\corpus.jsonl', 'r') as f:\n",
    "        for line in f:\n",
    "            doc = json.loads(line)\n",
    "            if doc['_id'] == doc_id:\n",
    "                return doc['title'] + ' ' + doc['text']\n",
    "    return ''\n",
    "\n",
    "\n",
    "# Function to compute cosine similarity\n",
    "def cosine_similarity(query_tfidf, doc_tfidf):\n",
    "    dot_product = sum(query_tfidf.get(token, 0) * doc_tfidf.get(token, 0) for token in query_tfidf)\n",
    "    query_norm = math.sqrt(sum(val ** 2 for val in query_tfidf.values()))\n",
    "    doc_norm = math.sqrt(sum(val ** 2 for val in doc_tfidf.values()))\n",
    "    return dot_product / (query_norm * doc_norm) if query_norm * doc_norm != 0 else 0\n",
    "\n",
    "# Read queries and compute similarity\n",
    "results = []\n",
    "with open('C:\\dev\\CSI4107\\Assignment 1\\scifact\\queries.jsonl', 'r') as f:\n",
    "    for line in f:\n",
    "        query = json.loads(line)\n",
    "        query_id = query['_id']\n",
    "        query_text = query['text']\n",
    "        query_tokens = preprocess(query_text)\n",
    "        query_tfidf = compute_tfidf(query_tokens, doc_freq, total_docs)\n",
    "        \n",
    "        # Compute similarity with each document\n",
    "        doc_scores = {}\n",
    "        for term in query_tokens:\n",
    "            if term in inverted_index:\n",
    "                for doc_id in inverted_index[term]:\n",
    "                    if doc_id not in doc_scores:\n",
    "                        doc_text = get_document_text(doc_id)  # Function to get document text\n",
    "                        doc_tokens = preprocess(doc_text)\n",
    "                        doc_tfidf = compute_tfidf(doc_tokens, doc_freq, total_docs)\n",
    "                        doc_scores[doc_id] = cosine_similarity(query_tfidf, doc_tfidf)\n",
    "        \n",
    "        # Sort documents by score\n",
    "        sorted_docs = sorted(doc_scores.items(), key=lambda x: x[1], reverse=True)\n",
    "        \n",
    "        # Save top-100 results\n",
    "        for rank, (doc_id, score) in enumerate(sorted_docs[:100], start=1):\n",
    "            results.append(f\"{query_id} Q0 {doc_id} {rank} {score} run_name\")\n",
    "\n",
    "# Save results to file\n",
    "with open('Results.txt', 'w') as f:\n",
    "    f.write('\\n'.join(results))"
   ]
  }
 ],
 "metadata": {
  "kernelspec": {
   "display_name": "Python 3",
   "language": "python",
   "name": "python3"
  },
  "language_info": {
   "codemirror_mode": {
    "name": "ipython",
    "version": 3
   },
   "file_extension": ".py",
   "mimetype": "text/x-python",
   "name": "python",
   "nbconvert_exporter": "python",
   "pygments_lexer": "ipython3",
   "version": "3.12.2"
  }
 },
 "nbformat": 4,
 "nbformat_minor": 2
}
